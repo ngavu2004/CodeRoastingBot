{
 "cells": [
  {
   "cell_type": "markdown",
   "id": "effc0965",
   "metadata": {},
   "source": [
    "# Import models"
   ]
  },
  {
   "cell_type": "code",
   "execution_count": null,
   "id": "13830c59",
   "metadata": {},
   "outputs": [
    {
     "ename": "",
     "evalue": "",
     "output_type": "error",
     "traceback": [
      "\u001b[1;31mFailed to start the Kernel '.venv (Python 3.11.2)'. \n",
      "\u001b[1;31mView Jupyter <a href='command:jupyter.viewOutput'>log</a> for further details. WebSocket is not defined"
     ]
    }
   ],
   "source": [
    "import modal\n",
    "\n",
    "MODEL_DIR = \"/model\"\n",
    "MODEL_NAME = \"deepseek-ai/DeepSeek-Coder-V2-Lite-Instruct\""
   ]
  },
  {
   "cell_type": "code",
   "execution_count": null,
   "id": "2b9136ad",
   "metadata": {},
   "outputs": [
    {
     "ename": "",
     "evalue": "",
     "output_type": "error",
     "traceback": [
      "\u001b[1;31mFailed to start the Kernel '.venv (Python 3.11.2)'. \n",
      "\u001b[1;31mView Jupyter <a href='command:jupyter.viewOutput'>log</a> for further details. WebSocket is not defined"
     ]
    }
   ],
   "source": [
    "image = (\n",
    "    modal.Image.debian_slim(python_version=\"3.11\")\n",
    "    .pip_install(\n",
    "        \"torch==2.5.1\",\n",
    "        \"transformers==4.47.1\",\n",
    "        \"hf-transfer==0.1.8\",\n",
    "        \"vllm\"\n",
    "    )\n",
    "    # Use the barebones `hf-transfer` package for maximum download speeds. No progress bar, but expect 700MB/s.\n",
    "    .env({\"HF_HUB_ENABLE_HF_TRANSFER\": \"1\", \"HF_HUB_CACHE\": MODEL_DIR})\n",
    ")"
   ]
  },
  {
   "cell_type": "code",
   "execution_count": 5,
   "id": "c3b4a8cf",
   "metadata": {},
   "outputs": [],
   "source": [
    "model_cache = modal.Volume.from_name(\"hf-hub-cache\", create_if_missing=True)\n",
    "app = modal.App(\n",
    "    \"CodeRoaster\",\n",
    "    image=image,\n",
    "    volumes={MODEL_DIR: model_cache},\n",
    ")"
   ]
  },
  {
   "cell_type": "code",
   "execution_count": 6,
   "id": "aa0f1a2f",
   "metadata": {},
   "outputs": [],
   "source": [
    "@app.function()\n",
    "def download_model():\n",
    "    from huggingface_hub import snapshot_download\n",
    "    from transformers.utils import move_cache\n",
    "\n",
    "    snapshot_download(\n",
    "        MODEL_NAME,\n",
    "        ignore_patterns=[\"*.pt\", \"*.bin\"],  # Using safetensors\n",
    "    )\n",
    "    move_cache()"
   ]
  },
  {
   "cell_type": "code",
   "execution_count": null,
   "id": "8eecc785",
   "metadata": {},
   "outputs": [],
   "source": [
    "with modal.enable_output():\n",
    "    with app.run():\n",
    "        download_model.remote()"
   ]
  },
  {
   "cell_type": "markdown",
   "id": "3d0f11ef",
   "metadata": {},
   "source": [
    "# Test api endpoint"
   ]
  },
  {
   "cell_type": "code",
   "execution_count": null,
   "id": "da1545d1",
   "metadata": {},
   "outputs": [
    {
     "ename": "",
     "evalue": "",
     "output_type": "error",
     "traceback": [
      "\u001b[1;31mFailed to start the Kernel '.venv (Python 3.11.2)'. \n",
      "\u001b[1;31mView Jupyter <a href='command:jupyter.viewOutput'>log</a> for further details. WebSocket is not defined"
     ]
    }
   ],
   "source": [
    "test_code = \"\"\"\n",
    "class TrieNode():\n",
    "    def __init__(self):\n",
    "        self.children = {}\n",
    "        self.eow = False\n",
    "\n",
    "class Solution:\n",
    "    def longestWord(self, words: List[str]) -> str:\n",
    "        trie_root = TrieNode()\n",
    "\n",
    "        # add all words to trie\n",
    "        for word in words:\n",
    "            curr_node = trie_root\n",
    "            for char in word:\n",
    "                if char not in curr_node.children:\n",
    "                    curr_node.children[char] = TrieNode()\n",
    "                curr_node = curr_node.children[char]\n",
    "            curr_node.eow = True\n",
    "\n",
    "        res = \"\"\n",
    "\n",
    "        queue = deque([(trie_root, \"\")]) # node, list of char\n",
    "\n",
    "        while queue:\n",
    "            res = queue[0][1]\n",
    "\n",
    "            for _ in range(len(queue)):\n",
    "                curr_node, curr_string = queue.popleft()\n",
    "                res = min(res, curr_string)\n",
    "\n",
    "                for next_char in curr_node.children:\n",
    "                    if curr_node.children[next_char].eow == True:\n",
    "                        queue.append((curr_node.children[next_char], curr_string + next_char))\n",
    "        return res\n",
    "    \"\"\""
   ]
  },
  {
   "cell_type": "code",
   "execution_count": null,
   "id": "d9e7a553",
   "metadata": {},
   "outputs": [
    {
     "name": "stdout",
     "output_type": "stream",
     "text": [
      "Response: You are a brutally honest, sarcastic, and witty senior software engineer. Your job is to roast people's LeetCode code solutions.\n",
      "\n",
      "You're given a code snippet. Your job is to roast it in a funny, clever, and mildly insulting way — like a snarky code reviewer on a bad day.\n",
      "\n",
      "Be playful, creative, and don't hold back. Make comments about bad logic, unnecessary complexity, cringe variable names, poor edge case handling, or anything else that deserves it.\n",
      "\n",
      "Here's the code to roast:\n",
      "\n",
      "\n",
      "class TrieNode():\n",
      "    def __init__(self):\n",
      "        self.children = {}\n",
      "        self.eow = False\n",
      "\n",
      "class Solution:\n",
      "    def longestWord(self, words: List[str]) -> str:\n",
      "        trie_root = TrieNode()\n",
      "\n",
      "        # add all words to trie\n",
      "        for word in words:\n",
      "            curr_node = trie_root\n",
      "            for char in word:\n",
      "                if char not in curr_node.children:\n",
      "                    curr_node.children[char] = TrieNode()\n",
      "                curr_node = curr_node.children[char]\n",
      "            curr_node.eow = True\n",
      "\n",
      "        res = \"\"\n",
      "\n",
      "        queue = deque([(trie_root, \"\")]) # node, list of char\n",
      "\n",
      "        while queue:\n",
      "            res = queue[0][1]\n",
      "\n",
      "            for _ in range(len(queue)):\n",
      "                curr_node, curr_string = queue.popleft()\n",
      "                res = min(res, curr_string)\n",
      "\n",
      "                for next_char in curr_node.children:\n",
      "                    if curr_node.children[next_char].eow == True:\n",
      "                        queue.append((curr_node.children[next_char], curr_string + next_char))\n",
      "        return res\n",
      "    \n",
      "\n",
      "\n",
      "\n",
      "</think>\n",
      "\n",
      "class TrieNode():\n",
      "    def __init__(self):\n",
      "        self.children = {}\n",
      "       \n"
     ]
    }
   ],
   "source": [
    "import requests\n",
    "import yaml\n",
    "\n",
    "# Define the URL of the endpoint\n",
    "url = \"https://notshowingtoyou.run\"  # Replace with the actual URL if hosted elsewhere\n",
    "\n",
    "# Define the payload\n",
    "payload = {\n",
    "    \"code\": test_code\n",
    "}\n",
    "\n",
    "# Send the POST request\n",
    "response = requests.post(url, json=payload)\n",
    "\n",
    "# Print the response\n",
    "if response.status_code == 200:\n",
    "    print(\"Response:\", response.json())\n",
    "else:\n",
    "    print(\"Error:\", response.status_code, response.text)"
   ]
  }
 ],
 "metadata": {
  "kernelspec": {
   "display_name": ".venv",
   "language": "python",
   "name": "python3"
  },
  "language_info": {
   "codemirror_mode": {
    "name": "ipython",
    "version": 3
   },
   "file_extension": ".py",
   "mimetype": "text/x-python",
   "name": "python",
   "nbconvert_exporter": "python",
   "pygments_lexer": "ipython3",
   "version": "3.11.2"
  }
 },
 "nbformat": 4,
 "nbformat_minor": 5
}
